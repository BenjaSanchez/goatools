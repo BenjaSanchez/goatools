{
 "cells": [
  {
   "cell_type": "markdown",
   "metadata": {},
   "source": [
    "# Reading Annotations from a _GO Association File_ (GAF)"
   ]
  },
  {
   "cell_type": "markdown",
   "metadata": {},
   "source": [
    "1. Download a GAF file\n",
    "2. Load the GAF file into the GafReader\n",
    "3. Get Annotations\n",
    "\n",
    "**Bonus: Each line in the GAF file is stored in a namedtuple**:\n",
    "  * Namedtuple fields\n",
    "  * Print a subset of the namedtuple fields"
   ]
  },
  {
   "cell_type": "markdown",
   "metadata": {},
   "source": [
    "## 1) Download a GAF file"
   ]
  },
  {
   "cell_type": "code",
   "execution_count": 7,
   "metadata": {},
   "outputs": [
    {
     "name": "stdout",
     "output_type": "stream",
     "text": [
      "--2019-04-08 09:43:16--  http://current.geneontology.org/annotations/goa_human.gaf.gz\n",
      "Resolving current.geneontology.org (current.geneontology.org)... 143.204.145.94, 143.204.145.35, 143.204.145.220, ...\n",
      "Connecting to current.geneontology.org (current.geneontology.org)|143.204.145.94|:80... connected.\n",
      "HTTP request sent, awaiting response... 200 OK\n",
      "Length: 8524279 (8.1M) [application/gzip]\n",
      "Saving to: ‘goa_human.gaf.gz’\n",
      "\n",
      "goa_human.gaf.gz    100%[===================>]   8.13M  2.05MB/s    in 3.9s    \n",
      "\n",
      "utime(goa_human.gaf.gz): Operation not permitted\n",
      "2019-04-08 09:43:20 (2.07 MB/s) - ‘goa_human.gaf.gz’ saved [8524279/8524279]\n",
      "\n"
     ]
    }
   ],
   "source": [
    "!wget http://current.geneontology.org/annotations/goa_human.gaf.gz"
   ]
  },
  {
   "cell_type": "code",
   "execution_count": 14,
   "metadata": {},
   "outputs": [],
   "source": [
    "!gunzip goa_human.gaf.gz"
   ]
  },
  {
   "cell_type": "markdown",
   "metadata": {},
   "source": [
    "## 2) Load the GAF file into the GafReader"
   ]
  },
  {
   "cell_type": "code",
   "execution_count": 1,
   "metadata": {},
   "outputs": [
    {
     "name": "stdout",
     "output_type": "stream",
     "text": [
      "  READ      476,348 associations: goa_human.gaf\n"
     ]
    }
   ],
   "source": [
    "from goatools.anno.gaf_reader import GafReader\n",
    "\n",
    "ogaf = GafReader(\"goa_human.gaf\")"
   ]
  },
  {
   "cell_type": "markdown",
   "metadata": {},
   "source": [
    "## 3) Get Annotations\n",
    "The annotations will be stored in a dict where:\n",
    "  * the key is the protein ID and \n",
    "  * the value is a list of GO IDs associated with the protein."
   ]
  },
  {
   "cell_type": "code",
   "execution_count": 2,
   "metadata": {},
   "outputs": [],
   "source": [
    "id2gos = ogaf.read_gaf()"
   ]
  },
  {
   "cell_type": "code",
   "execution_count": 3,
   "metadata": {},
   "outputs": [
    {
     "name": "stdout",
     "output_type": "stream",
     "text": [
      "A0A024R161 : GO:0003924 GO:0005515 GO:0005834 GO:0007186\n",
      "\n",
      "A0A024RBG1 : GO:0003723 GO:0005829 GO:0008486 GO:0046872 GO:0052840 GO:0052842\n",
      "\n",
      "A0A075B6H7 : GO:0002377 GO:0005615 GO:0006955\n",
      "\n"
     ]
    }
   ],
   "source": [
    "for protein_id, go_ids in sorted(id2gos.items())[:3]:\n",
    "    print(\"{PROT:7} : {GOs}\\n\".format(\n",
    "        PROT=protein_id,\n",
    "        GOs=' '.join(sorted(go_ids))))"
   ]
  },
  {
   "cell_type": "markdown",
   "metadata": {},
   "source": [
    "# Bonus: The GAF is stored as a list of named tuples\n",
    "The list of namedtuples is stored in **GafReader** data member named **_associations_**.\n",
    "\n",
    "Each namedtuple stores data for one line in the GAF file."
   ]
  },
  {
   "cell_type": "code",
   "execution_count": 9,
   "metadata": {},
   "outputs": [
    {
     "name": "stdout",
     "output_type": "stream",
     "text": [
      "ntgafobj(DB='UniProtKB', DB_ID='A0A024R161', DB_Symbol='DNAJC25-GNG10', Qualifier=[], GO_ID='GO:0005834', DB_Reference={'PMID:21873635'}, Evidence_Code='IBA', With_From={'UniProtKB:P63212', 'FB:FBgn0004921', 'UniProtKB:O14610', 'RGD:621514', 'PANTHER:PTN001418483', 'RGD:69268', 'RGD:1595475'}, Aspect='C', DB_Name={'Guanine nucleotide-binding protein subunit gamma'}, DB_Synonym={'hCG_1994888', 'DNAJC25-GNG10'}, DB_Type='protein', Taxon=[9606], Date=datetime.date(2018, 4, 25), Assigned_By='GO_Central', Annotation_Extension=set(), Gene_Product_Form_ID=set())\n"
     ]
    }
   ],
   "source": [
    "# Sort the list of GAF namedtuples by ID\n",
    "nts = sorted(ogaf.associations, key=lambda nt:nt.DB_ID)\n",
    "\n",
    "# Print one namedtuple\n",
    "print(nts[0])"
   ]
  },
  {
   "cell_type": "markdown",
   "metadata": {},
   "source": [
    "## Namedtuple fields\n",
    "```\n",
    "DB             #  0 required 1              UniProtKB\n",
    "DB_ID          #  1 required 1              P12345\n",
    "DB_Symbol      #  2 required 1              PHO3\n",
    "Qualifier      #  3 optional 0 or greater   NOT\n",
    "GO_ID          #  4 required 1              GO:0003993\n",
    "DB_Reference   #  5 required 1 or greater   PMID:2676709\n",
    "Evidence_Code  #  6 required 1              IMP\n",
    "With_From      #  7 optional 0 or greater   GO:0000346\n",
    "Aspect         #  8 required 1              F\n",
    "DB_Name        #  9 optional 0 or 1         Toll-like receptor 4\n",
    "DB_Synonym     # 10 optional 0 or greater   hToll|Tollbooth\n",
    "DB_Type        # 11 required 1              protein\n",
    "Taxon          # 12 required 1 or 2         taxon:9606\n",
    "Date           # 13 required 1              20090118\n",
    "Assigned_By    # 14 required 1              SGD\n",
    "Annotation_Extension # 15 optional 0 or greater part_of(CL:0000576)\n",
    "Gene_Product_Form_ID # 16 optional 0 or 1       UniProtKB:P12345-2\n",
    "```"
   ]
  },
  {
   "cell_type": "markdown",
   "metadata": {},
   "source": [
    "## Print a subset of the namedtuple fields"
   ]
  },
  {
   "cell_type": "code",
   "execution_count": 7,
   "metadata": {},
   "outputs": [
    {
     "name": "stdout",
     "output_type": "stream",
     "text": [
      "A0A024R161 DNAJC25-GNG10 GO:0005834 IBA 2018-04-25 GO_Central\n",
      "A0A024R161 DNAJC25-GNG10 GO:0005515 IBA 2018-04-25 GO_Central\n",
      "A0A024R161 DNAJC25-GNG10 GO:0003924 IEA 2019-02-11 InterPro\n",
      "A0A024R161 DNAJC25-GNG10 GO:0007186 IEA 2019-02-11 InterPro\n",
      "A0A024RBG1 NUDT4B        GO:0005829 IDA 2016-12-04 HPA\n",
      "A0A024RBG1 NUDT4B        GO:0003723 IEA 2019-02-12 UniProt\n",
      "A0A024RBG1 NUDT4B        GO:0008486 IEA 2019-02-11 UniProt\n",
      "A0A024RBG1 NUDT4B        GO:0046872 IEA 2019-02-12 UniProt\n",
      "A0A024RBG1 NUDT4B        GO:0052840 IEA 2019-02-11 UniProt\n",
      "A0A024RBG1 NUDT4B        GO:0052842 IEA 2019-02-11 UniProt\n"
     ]
    }
   ],
   "source": [
    "fmtpat = '{DB_ID} {DB_Symbol:13} {GO_ID} {Evidence_Code} {Date} {Assigned_By}'\n",
    "for nt_line in nts[:10]:\n",
    "    print(fmtpat.format(**nt_line._asdict()))"
   ]
  },
  {
   "cell_type": "markdown",
   "metadata": {},
   "source": [
    "Copyright (C) 2010-2019, DV Klopfenstein, Haibao Tang. All rights reserved."
   ]
  }
 ],
 "metadata": {
  "kernelspec": {
   "display_name": "Python 3",
   "language": "python",
   "name": "python3"
  },
  "language_info": {
   "codemirror_mode": {
    "name": "ipython",
    "version": 3
   },
   "file_extension": ".py",
   "mimetype": "text/x-python",
   "name": "python",
   "nbconvert_exporter": "python",
   "pygments_lexer": "ipython3",
   "version": "3.7.1"
  }
 },
 "nbformat": 4,
 "nbformat_minor": 2
}
