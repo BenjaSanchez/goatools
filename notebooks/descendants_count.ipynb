{
 "cells": [
  {
   "cell_type": "markdown",
   "metadata": {},
   "source": [
    "# How to get Descendants Count\n",
    "\n",
    "  1. Download Ontologies, if necessary\n",
    "  2. Choose a set of GO IDs to print\n",
    "  3. GoSubDag contains descendants count\n",
    "  4. Print the descendants count (_dcnt_)\n",
    "  "
   ]
  },
  {
   "cell_type": "markdown",
   "metadata": {},
   "source": [
    "## 1. Download Ontologies, if necessary"
   ]
  },
  {
   "cell_type": "code",
   "execution_count": 1,
   "metadata": {},
   "outputs": [
    {
     "name": "stdout",
     "output_type": "stream",
     "text": [
      "  EXISTS: go-basic.obo\n",
      "go-basic.obo: fmt(1.2) rel(2019-05-09) 47,407 GO Terms\n"
     ]
    }
   ],
   "source": [
    "from goatools.base import get_godag\n",
    "godag = get_godag(\"go-basic.obo\")\n"
   ]
  },
  {
   "cell_type": "markdown",
   "metadata": {},
   "source": [
    "## 2. Choose a set of GO IDs to print\n",
    "### 2a. Choose a GO IDs related to bacteria"
   ]
  },
  {
   "cell_type": "code",
   "execution_count": 2,
   "metadata": {},
   "outputs": [
    {
     "name": "stdout",
     "output_type": "stream",
     "text": [
      "24 bacteria GO terms\n"
     ]
    }
   ],
   "source": [
    "# Choose a deep leaf-level GO ID associated with \"bacteria\"\n",
    "DESC = 'bacteria'            # GO Term name contains this\n",
    "NSPC = 'cellular_component'  # Desired namespace\n",
    "\n",
    "# Create a chooser function which returns True or False\n",
    "def chooser(goterm):\n",
    "    \"\"\"Choose a leaf-level GO term based on its name\"\"\"\n",
    "    b_match = DESC in goterm.name\n",
    "    # True if GO term is leaf-level (has no children)\n",
    "    b_leaf = not goterm.children\n",
    "    # True if GO term is in 'cellular_component' namespace (nspc)\n",
    "    b_nspc = goterm.namespace == NSPC\n",
    "    return b_match and b_leaf and b_nspc\n",
    "\n",
    "# Get GO terms with desired name in desired GO DAG branch\n",
    "go_ids_selected = set(o.item_id for o in godag.values() if chooser(o))\n",
    "\n",
    "print('{N} {desc} GO terms'.format(N=len(go_ids_selected), desc=DESC))"
   ]
  },
  {
   "cell_type": "markdown",
   "metadata": {},
   "source": [
    "### 2b. Get the GO-DAG subset for your GO IDs"
   ]
  },
  {
   "cell_type": "code",
   "execution_count": 3,
   "metadata": {},
   "outputs": [
    {
     "name": "stdout",
     "output_type": "stream",
     "text": [
      "INITIALIZING GoSubDag:  24 sources in  60 GOs rcnt(True). 0 alt GO IDs\n",
      "             GoSubDag: namedtuple fields: NS level depth GO alt GO_name dcnt D1 id\n",
      "             GoSubDag: relationships: set()\n"
     ]
    }
   ],
   "source": [
    "from goatools.gosubdag.gosubdag import GoSubDag\n",
    "gosubdag = GoSubDag(go_ids_selected, godag)"
   ]
  },
  {
   "cell_type": "markdown",
   "metadata": {},
   "source": [
    "### 2c. Get the deepest GO ID in the GO DAG subset"
   ]
  },
  {
   "cell_type": "code",
   "execution_count": 4,
   "metadata": {},
   "outputs": [
    {
     "name": "stdout",
     "output_type": "stream",
     "text": [
      "GO:1990061 bacterial degradosome\n"
     ]
    }
   ],
   "source": [
    "go_id, go_term = max(gosubdag.go2obj.items(), key=lambda t: t[1].depth)\n",
    "\n",
    "# Print GO ID, using print format in gosubdag\n",
    "print(go_id, go_term.name)"
   ]
  },
  {
   "cell_type": "markdown",
   "metadata": {},
   "source": [
    "### 2d. Get all parents of the deepest GO ID"
   ]
  },
  {
   "cell_type": "code",
   "execution_count": 5,
   "metadata": {},
   "outputs": [
    {
     "name": "stdout",
     "output_type": "stream",
     "text": [
      "10 ancestors for GO:1990061 \"bacterial degradosome\"\n"
     ]
    }
   ],
   "source": [
    "go_ids_chosen = go_term.get_all_parents()\n",
    "print('{N} ancestors for {GO} \"{name}\"'.format(\n",
    "    N=len(go_ids_chosen), GO=go_term.item_id, name=go_term.name))"
   ]
  },
  {
   "cell_type": "markdown",
   "metadata": {},
   "source": [
    "## 3. GoSubDag contains descendants count\n",
    "\n",
    "### gosubdag.go2nt\n",
    "The data member, _**go2nt**_, of the class, _**GoSubDag**_, is a dict where:\n",
    "  * _**go**_ is the GO ID (e.g., GO:1990061)    \n",
    "  * _**nt**_ is the namedtuple\n",
    "\n",
    "\n",
    "### The namedtuple field, _dcnt_, contains the descendants count.\n",
    "\n",
    "Additional namedtuple fields:\n",
    "\n",
    "| field   | description\n",
    "|---------|-----------------\n",
    "| NS      | Namespace: BP, MF, or CC\n",
    "| level   | Minimum path from the top of the branch\n",
    "| depth   | Maximum path from the top of the branch\n",
    "| GO      | GO ID\n",
    "| GO_name | GO Name - A short description\n",
    "| dcnt    | Descendants count"
   ]
  },
  {
   "cell_type": "code",
   "execution_count": 6,
   "metadata": {},
   "outputs": [],
   "source": [
    "# Add the deep GO ID to its list of ancestors for printing\n",
    "go_ids_chosen.add(go_id)\n",
    "nts = [gosubdag.go2nt[go] for go in go_ids_chosen]"
   ]
  },
  {
   "cell_type": "markdown",
   "metadata": {},
   "source": [
    "## 4. Print the descendants count (_dcnt_)"
   ]
  },
  {
   "cell_type": "code",
   "execution_count": 7,
   "metadata": {},
   "outputs": [
    {
     "name": "stdout",
     "output_type": "stream",
     "text": [
      "IDX NS GO ID      Descendants Count Depth Name\n",
      "--- -- ---------- ----------------- ----- --------------------\n",
      " 1) CC GO:0005575        4206        D00  cellular_component\n",
      " 2) CC GO:0032991        2116        D01  protein-containing complex\n",
      " 3) CC GO:0044464        3321        D01  cell part\n",
      " 4) CC GO:0044424        2376        D02  intracellular part\n",
      " 5) CC GO:1902494         546        D02  catalytic complex\n",
      " 6) CC GO:0044444        1271        D03  cytoplasmic part\n",
      " 7) CC GO:1905354           8        D03  exoribonuclease complex\n",
      " 8) CC GO:0044445          87        D04  cytosolic part\n",
      " 9) CC GO:0000178           5        D04  exosome (RNase complex)\n",
      "10) CC GO:0000177           2        D05  cytoplasmic exosome (RNase complex)\n",
      "11) CC GO:1990061           0        D06  bacterial degradosome\n"
     ]
    }
   ],
   "source": [
    "fmt_str = '{I:2}) {NS} {GO:10} {dcnt:11}        D{depth:02}  {GO_name}'\n",
    "\n",
    "# Print selected GO information\n",
    "print('IDX NS GO ID      Descendants Count Depth Name')\n",
    "print('--- -- ---------- ----------------- ----- --------------------')\n",
    "for idx, nt_go in enumerate(sorted(nts, key=lambda nt: nt.depth), 1):\n",
    "    print(fmt_str.format(I=idx, **nt_go._asdict()))"
   ]
  },
  {
   "cell_type": "markdown",
   "metadata": {},
   "source": [
    "$ ../scripts/go_plot.py GO:1990061\n",
    "<img src=\"images/GO_1990061_bacterial_degradosome.png\" width=\"70%\">"
   ]
  },
  {
   "cell_type": "markdown",
   "metadata": {},
   "source": [
    "Copyright (C) 2016-2019, DV Klopfenstein et al. All rights reserved"
   ]
  }
 ],
 "metadata": {
  "kernelspec": {
   "display_name": "Python 3",
   "language": "python",
   "name": "python3"
  },
  "language_info": {
   "codemirror_mode": {
    "name": "ipython",
    "version": 3
   },
   "file_extension": ".py",
   "mimetype": "text/x-python",
   "name": "python",
   "nbconvert_exporter": "python",
   "pygments_lexer": "ipython3",
   "version": "3.6.7"
  }
 },
 "nbformat": 4,
 "nbformat_minor": 2
}
